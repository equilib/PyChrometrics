import pint
from math import exp, log


u = pint.UnitRegistry()
qty = u.Quantity


def Cp_water(T_wb : qty ) -> qty:
    '''
    Cp_water - specific heat capacity of water
    
    @param - T_wb: wet bulb temperature (deg F)
    @return specific heat capacity of water (Btu/lbm-F)
    
    '''
    T_wb = T_wb.to('degC')
    
    # convert from J/kg-C to kJ/kg-C
    Cp_w = ( 0.0265 * T_wb.m ** 2 - 1.7688 * T_wb.m + 4205.6 ) * 1e-3
    Cp_w = qty(Cp_w, 'kJ / (kg * K)')
    
    return Cp_w.to('Btu / (lb * degF)')


def Cp_vapor(T_db : qty ) -> qty:
    '''
    Cp_vapor - specific heat capacity of water vapor
    
    @param - T_wb: wet bulb temperature (deg F)
    @return specific heat capacity of water vapor (Btu/lbm-F)
    
    '''
    T_db = T_db.to('degC')

    # convert from J/kg-C to kJ/kg-C
    Cp_vapor = ( 0.0016 * T_db.m ** 2 + 0.1546 * T_db.m + 1858.7 ) * 1e-3
    Cp_vapor = qty(Cp_vapor, 'kJ / (kg * K)')
    
    return Cp_vapor.to('Btu / (lb * degF)')


def Cp_dry_air(T_db : qty, 
                T_wb : qty ) -> qty:
    '''
    Cp_dry_air - specific heat capacity of dry air
    
    @param - T_db: dry bulb temperature (deg F)
    @param - T_wb: wet bulb temperature (deg F)
    @return specific heat capacity of water vapor (Btu/lbm-F)
    
    '''
    T_wb = T_wb.to('degC')
    T_db = T_db.to('degC')
    
    # convert from J/kg-C to kJ/kg-C
    Cp_dry_air = ( 0.0667 * ( T_db.m + T_wb.m ) / 2 + 1005 ) * 1e-3
    Cp_dry_air = qty(Cp_dry_air, 'kJ / (kg * degC)')
    
    return Cp_dry_air.to('Btu / (lb * degF)')


def W_sat(T_db : qty ) -> qty:
    '''
    saturated humidity ratio: sat_W - function calculates the saturated humidity ratio based on dry bulb temperature
    
    @param - T_db: dry bulb temperature
    @return - saturated humidity ratio (lbm/lbm)
    
    '''
    Patm = qty(14.696, "psi")
    
    Pws = P_v_sat( T_db )
    
    MMR = qty(0.62198, "lb / lb")
    
    W_sat = MMR.m * Pws.m /( Patm.m - Pws.m )   # equation is from ASHRAE 2002 / 2005

    return qty(W_sat, "lb / lb")


def W(T_db : qty, RH : qty ):
    '''
    Humidity Ratio: W - function calculates the humidity ratio given dry bulb temperature and relative humidity
    
    @param - T_db: dry bulb temperature (deg F)
    @param - RH: relative humidity ( lbm vapor / lbm dry air )
    @return - humidity ratio (lbm/lbm)
    
    '''
    Patm = qty(14.696, "psi")
    
    # Pws = self.P_v_sat( T_db )
    Pws = P_w_sat( T_db )
    
    MMR = qty(0.62198, "lb / lb")

    #W = MMR * (Pws * RH) / (P_atm - Pws * RH)           # equation is from ASHRAE 2002 / 2005

    W = MMR.m * (Pws.m * RH.m) / (Patm.m - Pws.m * RH.m)
    
    return qty(W, "lb / lb")


def W0(Tdb : qty, Twb : qty ) -> qty:
    
    '''
    W0 - humidity ratio calculation as a function of Tdb and Twb with variable specific heats for air, water, vapor
    
    @param - T_db: dry bulb temperature in degrees F
    @param - T_wb: wet bulb temperature in degrees F
    @return - humidity ratio based on constant specific heat of air, water, and vapor (lbm/lbm)
    
    '''

    h_fg = 1069.9                          # Latent Heat of Vaporization (Btu/lbm)
    Cp_w = Cp_water(Twb).m                 # Cp of water 
    Cp_v = Cp_vapor(Tdb).m                 # Cp of vapor
    Cp_da = Cp_dry_air(Tdb, Twb).m         # Cp of dry air
    Ws_wb = W_sat(Twb).m                   # saturated humidity ratio Ws(Twb)  
    
    a = ( ( h_fg - ( Cp_w - Cp_v ) * Twb.m ) * Ws_wb - Cp_da * (Tdb.m - Twb.m) )
    b = ( h_fg + Cp_v * Tdb.m - Cp_w * Twb.m)

    W0 = a / b

    return qty(W0, "lb / lb")


def W1(T_db : qty, T_wb : qty ) -> qty:
    
    '''
    humidity ratio - calculation as a function of Tdb and Twb with const specific heats for air, water, vapor
    
    @param - T_db: dry bulb temperature in degrees F
    @param - T_wb: wet bulb temperature in degrees F
    @return - humidity ratio based on constant specific heat of air, water, and vapor (lbm/lbm)
    
    '''
    h_fg = 1069.9                    # Latent Heat of Vaporization (Btu/lbm)        
    Cp_da = 0.240                    # specific heat of dry air
    Cp_w = 0.999                     #  specific heat of water 
    Cp_v = 0.451                     # specific heat of vapor 
    Ws_wb = W_sat(Twb).m             # saturated humidity ratio function (pointer) Ws(Twb)  
    
    a = ( ( h_fg - ( Cp_w - Cp_v ) * T_wb.m ) * Ws_wb - Cp_da * ( T_db.m - T_wb.m ) )
    b = ( h_fg + Cp_v * T_db.m - Cp_w * T_wb.m )

    W1 = a / b
    
    return qty(W1, "lb / lb")


def P_v_sat(T_db : qty) -> qty:
    '''
    P_v_sat - saturated vapor partial pressure
    ''' 
    return(P_ice_sat( T_db ) if T_db.m < 32 else P_w_sat( T_db ) )


def P_ice_sat(T_db : qty ) -> qty:
    '''
    P_ice_sat - returns the water vapor saturation pressure over ice (psia)
    Hyland-Wexler Correlations - 1983 - ASHRAE 2001
    
    @param T_db - dry bulb temperature (F)
    @return saturation vapor pressure over ice (psia)
    '''
    C = [-5.6745359e03,
         6.3925247,
         -9.677843e-03,
         6.2215701e-07,
         2.0747825e-09,
         -9.4840240e-13,
         4.1635019e0 ]
    
    # convert dry bulb temperature in deg F to thermodynamic temperature in K
    T = T_db.to('K').m

    ln_P_is = C[0] / T + C[1] + C[2] * T + C[3] * T**2 + C[4] * T**3 + C[5] * T**4 + C[6] * log(T)

    P_is = exp(ln_P_is)

    P_is = qty(P_is, 'Pa')

    return( P_is.to('psi') )


def P_w_sat(T_db : qty) -> qty:
    '''
    P_w_sat - returns the water vapor saturation pressure over water (psia)
    Hyland-Wexler Correlations - 1983 - ASHRAE 2001
    
    @param T_db - drybulb temperature ( F )
    @return saturation vapor pressure over water (psia)
    '''    
    C = [ -5.8002206e03,
          1.3914994e00,
          -4.8640239e-02,
           4.1764768e-05,
          -1.4452093e-08,
           6.5459673e00 ]
    
    # convert dry bulb temperature in deg F to thermodynamic temperature in K
    T = T_db.to('K').m

    ln_P_sat = C[0] / T + C[1] + C[2] * T + C[3] * T**2 + C[4] * T**3 + C[5] * log(T)

    P_sat = exp(ln_P_sat)

    P_sat = qty(P_sat, 'Pa')

    return P_sat.to('psi') 


def T_wb_iter(T_db : qty, RH : qty ) -> qty:
    ''' 
    wet bulb temperature - iterative method 

    @param - T_db: dry bulb Temperature (deg F)
    @param - RH: relative humidity (fractional form)
    @return - wet bulb Temperature (deg F)
    
    @TODO - complete implementation of method with W0 / W1 methods
    '''
    T_wb, T_wbm = T_db, T_db.m      # Initial guess at Twb (T_wbm: magnitude)
    _W = W(T_db, RH)
    _W0 = W0(T_db, T_wb)
    epsilon = 1e-6                  # stop condition
    
    def deltaW():
        return (( abs(_W.m - _W0.m) / _W.m) / 100 )
    
    while ( abs(_W0.m - _W.m) > epsilon ):
        
        T_wbm *= 1 - deltaW() if abs(_W0.m - _W.m) > 0 else 1 + deltaW()
        
        _W0 = W0(T_db, qty(T_wbm, "degF"))
    
    return qty(T_wbm, "degF")


Twb = qty(45, 'degF')
Tdb = qty(65.0, 'degF')
RH = qty(0.14, "%")


Cp_water(Twb)


Cp_vapor(Tdb)


Cp_dry_air(Tdb, Twb)


P_w_sat(Tdb)


W_sat(Tdb)


P_ice_sat(Tdb)


W(Tdb, RH)


W0(Tdb, Twb)


W1(Tdb, Twb)


T_wb_iter(Tdb,RH)



