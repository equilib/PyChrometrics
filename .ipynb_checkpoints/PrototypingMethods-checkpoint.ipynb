{
 "cells": [
  {
   "cell_type": "code",
   "execution_count": 89,
   "id": "2e455dd3-8bc5-4526-92a7-d77a59443286",
   "metadata": {},
   "outputs": [],
   "source": [
    "import pint\n",
    "from math import exp, log"
   ]
  },
  {
   "cell_type": "code",
   "execution_count": 90,
   "id": "e9b55513-e90d-4de2-8cba-09192628edba",
   "metadata": {},
   "outputs": [],
   "source": [
    "u = pint.UnitRegistry()\n",
    "qty = u.Quantity"
   ]
  },
  {
   "cell_type": "code",
   "execution_count": 91,
   "id": "e1933c23-baa8-47da-aafe-4364e236fd41",
   "metadata": {},
   "outputs": [],
   "source": [
    "def Cp_water(T_wb : qty ) -> qty:\n",
    "    '''\n",
    "    Cp_water - specific heat capacity of water\n",
    "    \n",
    "    @param - T_wb: wet bulb temperature (deg F)\n",
    "    @return specific heat capacity of water (Btu/lbm-F)\n",
    "    \n",
    "    '''\n",
    "    T_wb = T_wb.to('degC')\n",
    "    \n",
    "    # convert from J/kg-C to kJ/kg-C\n",
    "    Cp_w = ( 0.0265 * T_wb.m ** 2 - 1.7688 * T_wb.m + 4205.6 ) * 1e-3\n",
    "    Cp_w = qty(Cp_w, 'kJ / (kg * K)')\n",
    "    \n",
    "    return Cp_w.to('Btu / (lb * degF)')"
   ]
  },
  {
   "cell_type": "code",
   "execution_count": 92,
   "id": "9cb18e1d-cdd5-4726-b63f-524d7e07d0ce",
   "metadata": {},
   "outputs": [],
   "source": [
    "def Cp_vapor(T_db : qty ) -> qty:\n",
    "    '''\n",
    "    Cp_vapor - specific heat capacity of water vapor\n",
    "    \n",
    "    @param - T_wb: wet bulb temperature (deg F)\n",
    "    @return specific heat capacity of water vapor (Btu/lbm-F)\n",
    "    \n",
    "    '''\n",
    "    T_db = T_db.to('degC')\n",
    "\n",
    "    # convert from J/kg-C to kJ/kg-C\n",
    "    Cp_vapor = ( 0.0016 * T_db.m ** 2 + 0.1546 * T_db.m + 1858.7 ) * 1e-3\n",
    "    Cp_vapor = qty(Cp_vapor, 'kJ / (kg * K)')\n",
    "    \n",
    "    return Cp_vapor.to('Btu / (lb * degF)')"
   ]
  },
  {
   "cell_type": "code",
   "execution_count": 93,
   "id": "5038f162-2e6f-4ae8-b445-9ea040fcb5e0",
   "metadata": {},
   "outputs": [],
   "source": [
    "def Cp_dry_air(T_db : qty, \n",
    "                T_wb : qty ) -> qty:\n",
    "    '''\n",
    "    Cp_dry_air - specific heat capacity of dry air\n",
    "    \n",
    "    @param - T_db: dry bulb temperature (deg F)\n",
    "    @param - T_wb: wet bulb temperature (deg F)\n",
    "    @return specific heat capacity of water vapor (Btu/lbm-F)\n",
    "    \n",
    "    '''\n",
    "    T_wb = T_wb.to('degC')\n",
    "    T_db = T_db.to('degC')\n",
    "    \n",
    "    # convert from J/kg-C to kJ/kg-C\n",
    "    Cp_dry_air = ( 0.0667 * ( T_db.m + T_wb.m ) / 2 + 1005 ) * 1e-3\n",
    "    Cp_dry_air = qty(Cp_dry_air, 'kJ / (kg * degC)')\n",
    "    \n",
    "    return Cp_dry_air.to('Btu / (lb * degF)')"
   ]
  },
  {
   "cell_type": "code",
   "execution_count": 94,
   "id": "82487aa7-76ec-4470-be81-9ab1abdb6a14",
   "metadata": {},
   "outputs": [],
   "source": [
    "def W_sat(T_db : qty ) -> qty:\n",
    "    '''\n",
    "    saturated humidity ratio: sat_W - function calculates the saturated humidity ratio based on dry bulb temperature\n",
    "    \n",
    "    @param - T_db: dry bulb temperature\n",
    "    @return - saturated humidity ratio (lbm/lbm)\n",
    "    \n",
    "    '''\n",
    "    Patm = qty(14.696, \"psi\")\n",
    "    \n",
    "    Pws = P_v_sat( T_db )\n",
    "    \n",
    "    MMR = qty(0.62198, \"lb / lb\")\n",
    "    \n",
    "    W_sat = MMR.m * Pws.m /( Patm.m - Pws.m )   # equation is from ASHRAE 2002 / 2005\n",
    "\n",
    "    return qty(W_sat, \"lb / lb\")"
   ]
  },
  {
   "cell_type": "code",
   "execution_count": 134,
   "id": "d508b5dd-02e0-48a6-b5a2-9129c892e1e7",
   "metadata": {},
   "outputs": [],
   "source": [
    "def W(T_db : qty, RH : qty ):\n",
    "    '''\n",
    "    Humidity Ratio: W - function calculates the humidity ratio given dry bulb temperature and relative humidity\n",
    "    \n",
    "    @param - T_db: dry bulb temperature (deg F)\n",
    "    @param - RH: relative humidity ( lbm vapor / lbm dry air )\n",
    "    @return - humidity ratio (lbm/lbm)\n",
    "    \n",
    "    '''\n",
    "    Patm = qty(14.696, \"psi\")\n",
    "    \n",
    "    # Pws = self.P_v_sat( T_db )\n",
    "    Pws = P_w_sat( T_db )\n",
    "    \n",
    "    MMR = qty(0.62198, \"lb / lb\")\n",
    "\n",
    "    #W = MMR * (Pws * RH) / (P_atm - Pws * RH)           # equation is from ASHRAE 2002 / 2005\n",
    "\n",
    "    W = MMR.m * (Pws.m * RH.m) / (Patm.m - Pws.m * RH.m)\n",
    "    \n",
    "    return qty(W, \"lb / lb\")"
   ]
  },
  {
   "cell_type": "code",
   "execution_count": 364,
   "id": "3c101fb1-2d91-45d8-a09f-8731e76e4b42",
   "metadata": {},
   "outputs": [],
   "source": [
    "def W0(Tdb : qty, Twb : qty ) -> qty:\n",
    "    \n",
    "    '''\n",
    "    W0 - humidity ratio calculation as a function of Tdb and Twb with variable specific heats for air, water, vapor\n",
    "    \n",
    "    @param - T_db: dry bulb temperature in degrees F\n",
    "    @param - T_wb: wet bulb temperature in degrees F\n",
    "    @return - humidity ratio based on constant specific heat of air, water, and vapor (lbm/lbm)\n",
    "    \n",
    "    '''\n",
    "\n",
    "    h_fg = 1069.9                          # Latent Heat of Vaporization (Btu/lbm)\n",
    "    Cp_w = Cp_water(Twb).m                 # Cp of water \n",
    "    Cp_v = Cp_vapor(Tdb).m                 # Cp of vapor\n",
    "    Cp_da = Cp_dry_air(Tdb, Twb).m         # Cp of dry air\n",
    "    Ws_wb = W_sat(Twb).m                   # saturated humidity ratio Ws(Twb)  \n",
    "    \n",
    "    a = ( ( h_fg - ( Cp_w - Cp_v ) * Twb.m ) * Ws_wb - Cp_da * (Tdb.m - Twb.m) )\n",
    "    b = ( h_fg + Cp_v * Tdb.m - Cp_w * Twb.m)\n",
    "\n",
    "    W0 = a / b\n",
    "\n",
    "    return qty(W0, \"lb / lb\")"
   ]
  },
  {
   "cell_type": "code",
   "execution_count": 365,
   "id": "0826e053-3710-4a9b-98a2-efa6c629d90a",
   "metadata": {},
   "outputs": [],
   "source": [
    "def W1(T_db : qty, T_wb : qty ) -> qty:\n",
    "    \n",
    "    '''\n",
    "    humidity ratio - calculation as a function of Tdb and Twb with const specific heats for air, water, vapor\n",
    "    \n",
    "    @param - T_db: dry bulb temperature in degrees F\n",
    "    @param - T_wb: wet bulb temperature in degrees F\n",
    "    @return - humidity ratio based on constant specific heat of air, water, and vapor (lbm/lbm)\n",
    "    \n",
    "    '''\n",
    "    h_fg = 1069.9                    # Latent Heat of Vaporization (Btu/lbm)        \n",
    "    Cp_da = 0.240                    # specific heat of dry air\n",
    "    Cp_w = 0.999                     #  specific heat of water \n",
    "    Cp_v = 0.451                     # specific heat of vapor \n",
    "    Ws_wb = W_sat(Twb).m             # saturated humidity ratio function (pointer) Ws(Twb)  \n",
    "    \n",
    "    a = ( ( h_fg - ( Cp_w - Cp_v ) * T_wb.m ) * Ws_wb - Cp_da * ( T_db.m - T_wb.m ) )\n",
    "    b = ( h_fg + Cp_v * T_db.m - Cp_w * T_wb.m )\n",
    "\n",
    "    W1 = a / b\n",
    "    \n",
    "    return qty(W1, \"lb / lb\")"
   ]
  },
  {
   "cell_type": "code",
   "execution_count": 366,
   "id": "c4c7e7e6-2b00-45f1-a3f5-143fff1ca217",
   "metadata": {},
   "outputs": [],
   "source": [
    "def P_v_sat(T_db : qty) -> qty:\n",
    "    '''\n",
    "    P_v_sat - saturated vapor partial pressure\n",
    "    ''' \n",
    "    return(P_ice_sat( T_db ) if T_db.m < 32 else P_w_sat( T_db ) )"
   ]
  },
  {
   "cell_type": "code",
   "execution_count": 367,
   "id": "a81401f0-576e-4c01-ba40-fe70f1a569ec",
   "metadata": {},
   "outputs": [],
   "source": [
    "def P_ice_sat(T_db : qty ) -> qty:\n",
    "    '''\n",
    "    P_ice_sat - returns the water vapor saturation pressure over ice (psia)\n",
    "    Hyland-Wexler Correlations - 1983 - ASHRAE 2001\n",
    "    \n",
    "    @param T_db - dry bulb temperature (F)\n",
    "    @return saturation vapor pressure over ice (psia)\n",
    "    '''\n",
    "    C = [-5.6745359e03,\n",
    "         6.3925247,\n",
    "         -9.677843e-03,\n",
    "         6.2215701e-07,\n",
    "         2.0747825e-09,\n",
    "         -9.4840240e-13,\n",
    "         4.1635019e0 ]\n",
    "    \n",
    "    # convert dry bulb temperature in deg F to thermodynamic temperature in K\n",
    "    T = T_db.to('K').m\n",
    "\n",
    "    ln_P_is = C[0] / T + C[1] + C[2] * T + C[3] * T**2 + C[4] * T**3 + C[5] * T**4 + C[6] * log(T)\n",
    "\n",
    "    P_is = exp(ln_P_is)\n",
    "\n",
    "    P_is = qty(P_is, 'Pa')\n",
    "\n",
    "    return( P_is.to('psi') )"
   ]
  },
  {
   "cell_type": "code",
   "execution_count": 368,
   "id": "d9831f0e-5517-453b-9851-7fb3e0fbe957",
   "metadata": {},
   "outputs": [],
   "source": [
    "def P_w_sat(T_db : qty) -> qty:\n",
    "    '''\n",
    "    P_w_sat - returns the water vapor saturation pressure over water (psia)\n",
    "    Hyland-Wexler Correlations - 1983 - ASHRAE 2001\n",
    "    \n",
    "    @param T_db - drybulb temperature ( F )\n",
    "    @return saturation vapor pressure over water (psia)\n",
    "    '''    \n",
    "    C = [ -5.8002206e03,\n",
    "          1.3914994e00,\n",
    "          -4.8640239e-02,\n",
    "           4.1764768e-05,\n",
    "          -1.4452093e-08,\n",
    "           6.5459673e00 ]\n",
    "    \n",
    "    # convert dry bulb temperature in deg F to thermodynamic temperature in K\n",
    "    T = T_db.to('K').m\n",
    "\n",
    "    ln_P_sat = C[0] / T + C[1] + C[2] * T + C[3] * T**2 + C[4] * T**3 + C[5] * log(T)\n",
    "\n",
    "    P_sat = exp(ln_P_sat)\n",
    "\n",
    "    P_sat = qty(P_sat, 'Pa')\n",
    "\n",
    "    return P_sat.to('psi') "
   ]
  },
  {
   "cell_type": "code",
   "execution_count": 369,
   "id": "9c4af5f8-b591-4ba4-ace9-96be92790ed2",
   "metadata": {},
   "outputs": [],
   "source": [
    "def T_wb_iter(T_db : qty, RH : qty ) -> qty:\n",
    "    ''' \n",
    "    wet bulb temperature - iterative method \n",
    "\n",
    "    @param - T_db: dry bulb Temperature (deg F)\n",
    "    @param - RH: relative humidity (fractional form)\n",
    "    @return - wet bulb Temperature (deg F)\n",
    "    \n",
    "    @TODO - complete implementation of method with W0 / W1 methods\n",
    "    '''\n",
    "    T_wb, T_wbm = T_db, T_db.m      # Initial guess at Twb (T_wbm: magnitude)\n",
    "    _W = W(T_db, RH)\n",
    "    _W0 = W0(T_db, T_wb)\n",
    "    epsilon = 1e-6                  # stop condition\n",
    "    \n",
    "    def deltaW():\n",
    "        return (( abs(_W.m - _W0.m) / _W.m) / 100 )\n",
    "    \n",
    "    while ( abs(_W0.m - _W.m) > epsilon ):\n",
    "        \n",
    "        T_wbm *= 1 - deltaW() if abs(_W0.m - _W.m) > 0 else 1 + deltaW()\n",
    "        \n",
    "        _W0 = W0(T_db, qty(T_wbm, \"degF\"))\n",
    "    \n",
    "    return qty(T_wbm, \"degF\")"
   ]
  },
  {
   "cell_type": "code",
   "execution_count": 370,
   "id": "17280335-3bb6-4ebc-b2a4-b7dfc3e3ed25",
   "metadata": {},
   "outputs": [],
   "source": [
    "Twb = qty(45, 'degF')\n",
    "Tdb = qty(65.0, 'degF')\n",
    "RH = qty(0.14, \"%\")"
   ]
  },
  {
   "cell_type": "code",
   "execution_count": 371,
   "id": "8c7abbe5-95a8-4a5e-b091-e114276c4044",
   "metadata": {},
   "outputs": [
    {
     "data": {
      "text/html": [
       "1.0017691316838557 british_thermal_unit/(delta_degree_Fahrenheit pound)"
      ],
      "text/latex": [
       "$1.0017691316838557\\ \\frac{\\mathrm{british\\_thermal\\_unit}}{\\left(\\mathrm{delta\\_degree\\_Fahrenheit} \\cdot \\mathrm{pound}\\right)}$"
      ],
      "text/plain": [
       "1.0017691316838557 <Unit('british_thermal_unit / delta_degree_Fahrenheit / pound')>"
      ]
     },
     "execution_count": 371,
     "metadata": {},
     "output_type": "execute_result"
    }
   ],
   "source": [
    "Cp_water(Twb)"
   ]
  },
  {
   "cell_type": "code",
   "execution_count": 372,
   "id": "85d106e5-f517-4752-ae30-b1c7a6648841",
   "metadata": {},
   "outputs": [
    {
     "data": {
      "text/html": [
       "0.4447482208368257 british_thermal_unit/(delta_degree_Fahrenheit pound)"
      ],
      "text/latex": [
       "$0.4447482208368257\\ \\frac{\\mathrm{british\\_thermal\\_unit}}{\\left(\\mathrm{delta\\_degree\\_Fahrenheit} \\cdot \\mathrm{pound}\\right)}$"
      ],
      "text/plain": [
       "0.4447482208368257 <Unit('british_thermal_unit / delta_degree_Fahrenheit / pound')>"
      ]
     },
     "execution_count": 372,
     "metadata": {},
     "output_type": "execute_result"
    }
   ],
   "source": [
    "Cp_vapor(Tdb)"
   ]
  },
  {
   "cell_type": "code",
   "execution_count": 373,
   "id": "8aefdbe8-b11b-43a3-97b3-ad586cc559a1",
   "metadata": {},
   "outputs": [
    {
     "data": {
      "text/html": [
       "0.2402436556011775 british_thermal_unit/(delta_degree_Fahrenheit pound)"
      ],
      "text/latex": [
       "$0.2402436556011775\\ \\frac{\\mathrm{british\\_thermal\\_unit}}{\\left(\\mathrm{delta\\_degree\\_Fahrenheit} \\cdot \\mathrm{pound}\\right)}$"
      ],
      "text/plain": [
       "0.2402436556011775 <Unit('british_thermal_unit / delta_degree_Fahrenheit / pound')>"
      ]
     },
     "execution_count": 373,
     "metadata": {},
     "output_type": "execute_result"
    }
   ],
   "source": [
    "Cp_dry_air(Tdb, Twb)"
   ]
  },
  {
   "cell_type": "code",
   "execution_count": 374,
   "id": "675b25af-6d46-43bd-b3a1-2b490d1fa809",
   "metadata": {},
   "outputs": [
    {
     "data": {
      "text/html": [
       "0.30573680929497343 pound_force_per_square_inch"
      ],
      "text/latex": [
       "$0.30573680929497343\\ \\mathrm{pound\\_force\\_per\\_square\\_inch}$"
      ],
      "text/plain": [
       "0.30573680929497343 <Unit('pound_force_per_square_inch')>"
      ]
     },
     "execution_count": 374,
     "metadata": {},
     "output_type": "execute_result"
    }
   ],
   "source": [
    "P_w_sat(Tdb)"
   ]
  },
  {
   "cell_type": "code",
   "execution_count": 375,
   "id": "36423c1d-fc40-43e4-a19d-18c8c6b627d3",
   "metadata": {},
   "outputs": [
    {
     "data": {
      "text/html": [
       "0.013214642298420039 dimensionless"
      ],
      "text/latex": [
       "$0.013214642298420039\\ dimensionless$"
      ],
      "text/plain": [
       "0.013214642298420039 <Unit('dimensionless')>"
      ]
     },
     "execution_count": 375,
     "metadata": {},
     "output_type": "execute_result"
    }
   ],
   "source": [
    "W_sat(Tdb)"
   ]
  },
  {
   "cell_type": "code",
   "execution_count": 376,
   "id": "47943808-4ce3-4cb2-a365-59d50ad3de1b",
   "metadata": {},
   "outputs": [
    {
     "data": {
      "text/html": [
       "0.3643966174940058 pound_force_per_square_inch"
      ],
      "text/latex": [
       "$0.3643966174940058\\ \\mathrm{pound\\_force\\_per\\_square\\_inch}$"
      ],
      "text/plain": [
       "0.3643966174940058 <Unit('pound_force_per_square_inch')>"
      ]
     },
     "execution_count": 376,
     "metadata": {},
     "output_type": "execute_result"
    }
   ],
   "source": [
    "P_ice_sat(Tdb)"
   ]
  },
  {
   "cell_type": "code",
   "execution_count": 377,
   "id": "2d8e333a-5333-47fe-ab8b-4c8579b113de",
   "metadata": {},
   "outputs": [
    {
     "data": {
      "text/html": [
       "0.0018168530436645457 dimensionless"
      ],
      "text/latex": [
       "$0.0018168530436645457\\ dimensionless$"
      ],
      "text/plain": [
       "0.0018168530436645457 <Unit('dimensionless')>"
      ]
     },
     "execution_count": 377,
     "metadata": {},
     "output_type": "execute_result"
    }
   ],
   "source": [
    "W(Tdb, RH)"
   ]
  },
  {
   "cell_type": "code",
   "execution_count": 378,
   "id": "b6242db5-93c4-49a3-b380-bedfd9174d5e",
   "metadata": {},
   "outputs": [
    {
     "data": {
      "text/html": [
       "0.0016951160487480626 dimensionless"
      ],
      "text/latex": [
       "$0.0016951160487480626\\ dimensionless$"
      ],
      "text/plain": [
       "0.0016951160487480626 <Unit('dimensionless')>"
      ]
     },
     "execution_count": 378,
     "metadata": {},
     "output_type": "execute_result"
    }
   ],
   "source": [
    "W0(Tdb, Twb)"
   ]
  },
  {
   "cell_type": "code",
   "execution_count": 379,
   "id": "35fb1de8-2970-431e-b096-d58d71ffae9d",
   "metadata": {},
   "outputs": [
    {
     "data": {
      "text/html": [
       "0.0017013135893028809 dimensionless"
      ],
      "text/latex": [
       "$0.0017013135893028809\\ dimensionless$"
      ],
      "text/plain": [
       "0.0017013135893028809 <Unit('dimensionless')>"
      ]
     },
     "execution_count": 379,
     "metadata": {},
     "output_type": "execute_result"
    }
   ],
   "source": [
    "W1(Tdb, Twb)"
   ]
  },
  {
   "cell_type": "code",
   "execution_count": 380,
   "id": "a9ecbbef-8d4c-4aaa-8d8d-83288ebc945c",
   "metadata": {},
   "outputs": [
    {
     "data": {
      "text/html": [
       "45.26226851759721 degree_Fahrenheit"
      ],
      "text/latex": [
       "$45.26226851759721\\ \\mathrm{degree\\_Fahrenheit}$"
      ],
      "text/plain": [
       "45.26226851759721 <Unit('degree_Fahrenheit')>"
      ]
     },
     "execution_count": 380,
     "metadata": {},
     "output_type": "execute_result"
    }
   ],
   "source": [
    "T_wb_iter(Tdb,RH)"
   ]
  },
  {
   "cell_type": "code",
   "execution_count": null,
   "id": "4b582940-0129-4296-b4e2-ab1f6176e7bd",
   "metadata": {},
   "outputs": [],
   "source": []
  }
 ],
 "metadata": {
  "kernelspec": {
   "display_name": "Python 3 (ipykernel)",
   "language": "python",
   "name": "python3"
  },
  "language_info": {
   "codemirror_mode": {
    "name": "ipython",
    "version": 3
   },
   "file_extension": ".py",
   "mimetype": "text/x-python",
   "name": "python",
   "nbconvert_exporter": "python",
   "pygments_lexer": "ipython3",
   "version": "3.9.18"
  }
 },
 "nbformat": 4,
 "nbformat_minor": 5
}
